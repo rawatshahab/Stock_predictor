{
 "cells": [
  {
   "cell_type": "code",
   "execution_count": 1,
   "id": "665bf673",
   "metadata": {},
   "outputs": [],
   "source": [
    "import os\n",
    "import numpy as np\n",
    "import pandas as pd\n",
    "import matplotlib.pyplot as plt\n",
    "%matplotlib inline \n",
    "from sklearn.preprocessing import MinMaxScaler\n",
    "from keras.models import Sequential\n",
    "from keras.layers import LSTM, Dense, Dropout"
   ]
  },
  {
   "cell_type": "code",
   "execution_count": 2,
   "id": "bfb10dda",
   "metadata": {},
   "outputs": [
    {
     "data": {
      "text/html": [
       "<div>\n",
       "<style scoped>\n",
       "    .dataframe tbody tr th:only-of-type {\n",
       "        vertical-align: middle;\n",
       "    }\n",
       "\n",
       "    .dataframe tbody tr th {\n",
       "        vertical-align: top;\n",
       "    }\n",
       "\n",
       "    .dataframe thead th {\n",
       "        text-align: right;\n",
       "    }\n",
       "</style>\n",
       "<table border=\"1\" class=\"dataframe\">\n",
       "  <thead>\n",
       "    <tr style=\"text-align: right;\">\n",
       "      <th></th>\n",
       "      <th>Date</th>\n",
       "      <th>Open</th>\n",
       "      <th>High</th>\n",
       "      <th>Low</th>\n",
       "      <th>Close</th>\n",
       "      <th>Volume</th>\n",
       "    </tr>\n",
       "  </thead>\n",
       "  <tbody>\n",
       "    <tr>\n",
       "      <th>0</th>\n",
       "      <td>1/3/2012</td>\n",
       "      <td>325.25</td>\n",
       "      <td>332.83</td>\n",
       "      <td>324.97</td>\n",
       "      <td>663.59</td>\n",
       "      <td>7,380,500</td>\n",
       "    </tr>\n",
       "    <tr>\n",
       "      <th>1</th>\n",
       "      <td>1/4/2012</td>\n",
       "      <td>331.27</td>\n",
       "      <td>333.87</td>\n",
       "      <td>329.08</td>\n",
       "      <td>666.45</td>\n",
       "      <td>5,749,400</td>\n",
       "    </tr>\n",
       "    <tr>\n",
       "      <th>2</th>\n",
       "      <td>1/5/2012</td>\n",
       "      <td>329.83</td>\n",
       "      <td>330.75</td>\n",
       "      <td>326.89</td>\n",
       "      <td>657.21</td>\n",
       "      <td>6,590,300</td>\n",
       "    </tr>\n",
       "    <tr>\n",
       "      <th>3</th>\n",
       "      <td>1/6/2012</td>\n",
       "      <td>328.34</td>\n",
       "      <td>328.77</td>\n",
       "      <td>323.68</td>\n",
       "      <td>648.24</td>\n",
       "      <td>5,405,900</td>\n",
       "    </tr>\n",
       "    <tr>\n",
       "      <th>4</th>\n",
       "      <td>1/9/2012</td>\n",
       "      <td>322.04</td>\n",
       "      <td>322.29</td>\n",
       "      <td>309.46</td>\n",
       "      <td>620.76</td>\n",
       "      <td>11,688,800</td>\n",
       "    </tr>\n",
       "  </tbody>\n",
       "</table>\n",
       "</div>"
      ],
      "text/plain": [
       "       Date    Open    High     Low   Close      Volume\n",
       "0  1/3/2012  325.25  332.83  324.97  663.59   7,380,500\n",
       "1  1/4/2012  331.27  333.87  329.08  666.45   5,749,400\n",
       "2  1/5/2012  329.83  330.75  326.89  657.21   6,590,300\n",
       "3  1/6/2012  328.34  328.77  323.68  648.24   5,405,900\n",
       "4  1/9/2012  322.04  322.29  309.46  620.76  11,688,800"
      ]
     },
     "execution_count": 2,
     "metadata": {},
     "output_type": "execute_result"
    }
   ],
   "source": [
    "data = pd.read_csv(\"C:/Users/rohit/Downloads/Google_train_data.csv\")\n",
    "data.head()"
   ]
  },
  {
   "cell_type": "code",
   "execution_count": 3,
   "id": "a2ee475d",
   "metadata": {},
   "outputs": [
    {
     "name": "stdout",
     "output_type": "stream",
     "text": [
      "<class 'pandas.core.frame.DataFrame'>\n",
      "RangeIndex: 1258 entries, 0 to 1257\n",
      "Data columns (total 6 columns):\n",
      " #   Column  Non-Null Count  Dtype  \n",
      "---  ------  --------------  -----  \n",
      " 0   Date    1258 non-null   object \n",
      " 1   Open    1258 non-null   float64\n",
      " 2   High    1258 non-null   float64\n",
      " 3   Low     1258 non-null   float64\n",
      " 4   Close   1258 non-null   object \n",
      " 5   Volume  1258 non-null   object \n",
      "dtypes: float64(3), object(3)\n",
      "memory usage: 59.1+ KB\n"
     ]
    }
   ],
   "source": [
    "data.info()"
   ]
  },
  {
   "cell_type": "code",
   "execution_count": 4,
   "id": "beb1a7f4",
   "metadata": {},
   "outputs": [
    {
     "name": "stdout",
     "output_type": "stream",
     "text": [
      "[[325.25]\n",
      " [331.27]\n",
      " [329.83]\n",
      " ...\n",
      " [793.7 ]\n",
      " [783.33]\n",
      " [782.75]]\n",
      "(1258, 1)\n"
     ]
    }
   ],
   "source": [
    "training_set = data.iloc[:,1:2].values\n",
    "\n",
    "print(training_set)\n",
    "print(training_set.shape)"
   ]
  },
  {
   "cell_type": "code",
   "execution_count": 5,
   "id": "2f132ab6",
   "metadata": {},
   "outputs": [],
   "source": [
    "data[\"Close\"]=pd.to_numeric(data.Close,errors='coerce') #to change 'close' datatype\n",
    "data= data.dropna() #to drop any missing values\n",
    "trainData= data.iloc[:,4:5].values #to use only 'close' column to train the data"
   ]
  },
  {
   "cell_type": "code",
   "execution_count": 6,
   "id": "c6909a9b",
   "metadata": {},
   "outputs": [
    {
     "name": "stdout",
     "output_type": "stream",
     "text": [
      "<class 'pandas.core.frame.DataFrame'>\n",
      "Index: 1149 entries, 0 to 1257\n",
      "Data columns (total 6 columns):\n",
      " #   Column  Non-Null Count  Dtype  \n",
      "---  ------  --------------  -----  \n",
      " 0   Date    1149 non-null   object \n",
      " 1   Open    1149 non-null   float64\n",
      " 2   High    1149 non-null   float64\n",
      " 3   Low     1149 non-null   float64\n",
      " 4   Close   1149 non-null   float64\n",
      " 5   Volume  1149 non-null   object \n",
      "dtypes: float64(4), object(2)\n",
      "memory usage: 62.8+ KB\n"
     ]
    }
   ],
   "source": [
    "data.info()"
   ]
  },
  {
   "cell_type": "code",
   "execution_count": 7,
   "id": "a837efbf",
   "metadata": {},
   "outputs": [
    {
     "data": {
      "text/plain": [
       "(1149, 1)"
      ]
     },
     "execution_count": 7,
     "metadata": {},
     "output_type": "execute_result"
    }
   ],
   "source": [
    "sc = MinMaxScaler(feature_range=(0,1)) #rescale values between 0 and 1 for better performance\n",
    "trainData = sc.fit_transform(trainData) #transform the data\n",
    "\n",
    "trainData.shape"
   ]
  },
  {
   "cell_type": "code",
   "execution_count": 8,
   "id": "4f471d2c",
   "metadata": {},
   "outputs": [],
   "source": [
    "X_train = []\n",
    "y_train = []\n",
    "for i in range(60,1149): #input for lstm is 3d so it will have timestep, sequence length and batch size\n",
    "    #timestep= 60, seqlen=1149\n",
    "    X_train.append(trainData[i-60:i,0])\n",
    "    y_train.append(trainData[i,0])\n",
    "X_train = np.array(X_train)\n",
    "y_train = np.array(y_train)\n"
   ]
  },
  {
   "cell_type": "code",
   "execution_count": 9,
   "id": "0864fd57",
   "metadata": {},
   "outputs": [
    {
     "data": {
      "text/plain": [
       "(1089, 60, 1)"
      ]
     },
     "execution_count": 9,
     "metadata": {},
     "output_type": "execute_result"
    }
   ],
   "source": [
    "X_train = np.reshape(X_train,(X_train.shape[0], X_train.shape[1], 1))\n",
    "#adding the batchsize axis\n",
    "X_train.shape"
   ]
  },
  {
   "cell_type": "code",
   "execution_count": 10,
   "id": "4d532608",
   "metadata": {},
   "outputs": [],
   "source": [
    "#model with 4lstm layers, all followed by a dropout layer, adam is the optimizer and meansqerror is the loss function\n",
    "\n",
    "model = Sequential()\n",
    "\n",
    "model.add(LSTM(units = 100, return_sequences= True, input_shape= (X_train.shape[1], 1)))\n",
    "model.add(Dropout(0.1))\n",
    "\n",
    "model.add(LSTM(units = 100, return_sequences= True))\n",
    "model.add(Dropout(0.1))\n",
    "\n",
    "model.add(LSTM(units = 100, return_sequences= True))\n",
    "model.add(Dropout(0.1))\n",
    "\n",
    "model.add(LSTM(units = 100))\n",
    "model.add(Dropout(0.1))\n",
    "\n",
    "model.add(Dense(units=1))\n",
    "model.compile(optimizer = 'adam', loss = 'mean_squared_error')"
   ]
  },
  {
   "cell_type": "code",
   "execution_count": 11,
   "id": "d0950ce4",
   "metadata": {
    "scrolled": false
   },
   "outputs": [
    {
     "name": "stdout",
     "output_type": "stream",
     "text": [
      "Epoch 1/10\n",
      "35/35 - 42s - loss: 0.0422 - 42s/epoch - 1s/step\n",
      "Epoch 2/10\n",
      "35/35 - 14s - loss: 0.0101 - 14s/epoch - 405ms/step\n",
      "Epoch 3/10\n",
      "35/35 - 233s - loss: 0.0096 - 233s/epoch - 7s/step\n",
      "Epoch 4/10\n",
      "35/35 - 9s - loss: 0.0094 - 9s/epoch - 268ms/step\n",
      "Epoch 5/10\n",
      "35/35 - 14s - loss: 0.0075 - 14s/epoch - 391ms/step\n",
      "Epoch 6/10\n",
      "35/35 - 15s - loss: 0.0070 - 15s/epoch - 419ms/step\n",
      "Epoch 7/10\n",
      "35/35 - 14s - loss: 0.0065 - 14s/epoch - 404ms/step\n",
      "Epoch 8/10\n",
      "35/35 - 276s - loss: 0.0058 - 276s/epoch - 8s/step\n",
      "Epoch 9/10\n",
      "35/35 - 10s - loss: 0.0052 - 10s/epoch - 300ms/step\n",
      "Epoch 10/10\n",
      "35/35 - 13s - loss: 0.0055 - 13s/epoch - 380ms/step\n"
     ]
    }
   ],
   "source": [
    "hist= model.fit(X_train, y_train, epochs=10, batch_size=32, verbose=2) #training of the model"
   ]
  },
  {
   "cell_type": "code",
   "execution_count": 12,
   "id": "fb9ccf10",
   "metadata": {},
   "outputs": [],
   "source": [
    "model.save('model.h5')"
   ]
  },
  {
   "cell_type": "code",
   "execution_count": 13,
   "id": "95118d1f",
   "metadata": {
    "scrolled": true
   },
   "outputs": [
    {
     "data": {
      "image/png": "[encoded data removed]",
      "text/plain": [
       "<Figure size 640x480 with 1 Axes>"
      ]
     },
     "metadata": {},
     "output_type": "display_data"
    }
   ],
   "source": [
    "#plotting the loss incurred during each epoch iteration\n",
    "plt.plot(hist.history['loss'])\n",
    "plt.title('Training model loss')\n",
    "plt.ylabel('loss')\n",
    "plt.xlabel('epoch')\n",
    "plt.legend(['train'], loc='upper left')\n",
    "plt.show()"
   ]
  },
  {
   "cell_type": "code",
   "execution_count": 14,
   "id": "40ebdf8d",
   "metadata": {},
   "outputs": [
    {
     "data": {
      "text/plain": [
       "(192, 60)"
      ]
     },
     "execution_count": 14,
     "metadata": {},
     "output_type": "execute_result"
    }
   ],
   "source": [
    "import pandas\n",
    "testData = pd.read_csv(\"C:/Users/rohit/Downloads/Google_test_data.csv\")\n",
    "testData[\"Close\"]=pd.to_numeric(testData.Close,errors='coerce') #to change 'close' Datatype\n",
    "testData= testData.dropna() #to drop any missing values\n",
    "testData= testData.iloc[:,4:5] #to use only 'close' column to train the testData\n",
    "\n",
    "y_test = testData.iloc[60:,0:].values #to select rows and columns on integer based indexing\n",
    "\n",
    "#input array for the model\n",
    "\n",
    "inputClosing = testData.iloc[:,0:].values\n",
    "inputClosing_scaled = sc.transform(inputClosing)\n",
    "inputClosing_scaled.shape\n",
    "\n",
    "X_test = []\n",
    "length = len(testData)\n",
    "timestep = 60\n",
    "for i in range(timestep, length):\n",
    "    X_test.append(inputClosing_scaled[i-timestep:i,0])\n",
    "X_test = np.array(X_test) #converting x_test data into numpy array\n",
    "x_test = np.reshape(X_test, (X_test.shape[0], X_test.shape[1],1))\n",
    "X_test.shape"
   ]
  },
  {
   "cell_type": "code",
   "execution_count": 15,
   "id": "9111080a",
   "metadata": {},
   "outputs": [
    {
     "name": "stdout",
     "output_type": "stream",
     "text": [
      "6/6 [==============================] - 7s 114ms/step\n"
     ]
    },
    {
     "data": {
      "text/plain": [
       "array([[1.2120429],\n",
       "       [1.2090043],\n",
       "       [1.2102717],\n",
       "       [1.2165588],\n",
       "       [1.2262334],\n",
       "       [1.2354145],\n",
       "       [1.2410377],\n",
       "       [1.2421683],\n",
       "       [1.240554 ],\n",
       "       [1.2378906],\n",
       "       [1.232727 ],\n",
       "       [1.2245966],\n",
       "       [1.2146511],\n",
       "       [1.2034391],\n",
       "       [1.1933516],\n",
       "       [1.1859373],\n",
       "       [1.1846412],\n",
       "       [1.1912073],\n",
       "       [1.205732 ],\n",
       "       [1.2273629],\n",
       "       [1.2501607],\n",
       "       [1.2701498],\n",
       "       [1.2827069],\n",
       "       [1.2858518],\n",
       "       [1.2807393],\n",
       "       [1.2705655],\n",
       "       [1.2583796],\n",
       "       [1.2452557],\n",
       "       [1.2302891],\n",
       "       [1.2140397],\n",
       "       [1.1972164],\n",
       "       [1.1799799],\n",
       "       [1.1610065],\n",
       "       [1.1398925],\n",
       "       [1.1214216],\n",
       "       [1.1097649],\n",
       "       [1.1066394],\n",
       "       [1.1117284],\n",
       "       [1.1240277],\n",
       "       [1.1397145],\n",
       "       [1.1587225],\n",
       "       [1.1805168],\n",
       "       [1.2044295],\n",
       "       [1.2290076],\n",
       "       [1.252169 ],\n",
       "       [1.2711456],\n",
       "       [1.2832512],\n",
       "       [1.2895287],\n",
       "       [1.2918786],\n",
       "       [1.2925944],\n",
       "       [1.2937573],\n",
       "       [1.2944773],\n",
       "       [1.2940544],\n",
       "       [1.2919384],\n",
       "       [1.2891814],\n",
       "       [1.2853009],\n",
       "       [1.2794031],\n",
       "       [1.273178 ],\n",
       "       [1.2699924],\n",
       "       [1.271434 ],\n",
       "       [1.2790767],\n",
       "       [1.2936383],\n",
       "       [1.3119406],\n",
       "       [1.3293062],\n",
       "       [1.3419627],\n",
       "       [1.3479885],\n",
       "       [1.3490537],\n",
       "       [1.3471855],\n",
       "       [1.3442254],\n",
       "       [1.3408505],\n",
       "       [1.3377185],\n",
       "       [1.3348349],\n",
       "       [1.3309433],\n",
       "       [1.3262748],\n",
       "       [1.3212758],\n",
       "       [1.3168663],\n",
       "       [1.3137723],\n",
       "       [1.3126017],\n",
       "       [1.3149333],\n",
       "       [1.3217682],\n",
       "       [1.3338425],\n",
       "       [1.3501815],\n",
       "       [1.3678701],\n",
       "       [1.3840655],\n",
       "       [1.3991   ],\n",
       "       [1.4144741],\n",
       "       [1.430734 ],\n",
       "       [1.4468355],\n",
       "       [1.4612571],\n",
       "       [1.472634 ],\n",
       "       [1.4811661],\n",
       "       [1.4889742],\n",
       "       [1.4978088],\n",
       "       [1.5061938],\n",
       "       [1.511595 ],\n",
       "       [1.5118169],\n",
       "       [1.5053364],\n",
       "       [1.4920812],\n",
       "       [1.4738414],\n",
       "       [1.4546493],\n",
       "       [1.4382463],\n",
       "       [1.4273072],\n",
       "       [1.4234699],\n",
       "       [1.426091 ],\n",
       "       [1.4332914],\n",
       "       [1.4424582],\n",
       "       [1.4517988],\n",
       "       [1.460267 ],\n",
       "       [1.4682463],\n",
       "       [1.4762298],\n",
       "       [1.4847473],\n",
       "       [1.4944254],\n",
       "       [1.5051192],\n",
       "       [1.5170356],\n",
       "       [1.5308414],\n",
       "       [1.5455402],\n",
       "       [1.5602335],\n",
       "       [1.5744282],\n",
       "       [1.5885173],\n",
       "       [1.594797 ],\n",
       "       [1.5873313],\n",
       "       [1.5644857],\n",
       "       [1.5304358],\n",
       "       [1.4912249],\n",
       "       [1.4514788],\n",
       "       [1.4145142],\n",
       "       [1.3825794],\n",
       "       [1.3573368],\n",
       "       [1.3373342],\n",
       "       [1.3206153],\n",
       "       [1.309301 ],\n",
       "       [1.3060166],\n",
       "       [1.3105878],\n",
       "       [1.3199683],\n",
       "       [1.3319588],\n",
       "       [1.3448952],\n",
       "       [1.3567984],\n",
       "       [1.365902 ],\n",
       "       [1.3714666],\n",
       "       [1.3723494],\n",
       "       [1.3686453],\n",
       "       [1.360332 ],\n",
       "       [1.3435926],\n",
       "       [1.318626 ],\n",
       "       [1.2871276],\n",
       "       [1.2524241],\n",
       "       [1.2197038],\n",
       "       [1.1940244],\n",
       "       [1.1782295],\n",
       "       [1.1728938],\n",
       "       [1.1776937],\n",
       "       [1.1907289],\n",
       "       [1.2097999],\n",
       "       [1.2330588],\n",
       "       [1.2582668],\n",
       "       [1.2837569],\n",
       "       [1.3085867],\n",
       "       [1.3312436],\n",
       "       [1.3483404],\n",
       "       [1.3573111],\n",
       "       [1.3571842],\n",
       "       [1.3491002],\n",
       "       [1.3364409],\n",
       "       [1.3233379],\n",
       "       [1.3134267],\n",
       "       [1.3092587],\n",
       "       [1.3104025],\n",
       "       [1.3159379],\n",
       "       [1.3254431],\n",
       "       [1.3381277],\n",
       "       [1.3527039],\n",
       "       [1.3679892],\n",
       "       [1.3829097],\n",
       "       [1.3958746],\n",
       "       [1.4056869],\n",
       "       [1.4105767],\n",
       "       [1.4104573],\n",
       "       [1.4066571],\n",
       "       [1.4001046],\n",
       "       [1.3914253],\n",
       "       [1.3897816],\n",
       "       [1.3998274],\n",
       "       [1.420971 ],\n",
       "       [1.4491833],\n",
       "       [1.478958 ],\n",
       "       [1.5044347],\n",
       "       [1.5187887],\n",
       "       [1.5203441],\n",
       "       [1.510706 ],\n",
       "       [1.4953612],\n",
       "       [1.4779257],\n",
       "       [1.4601196]], dtype=float32)"
      ]
     },
     "execution_count": 15,
     "metadata": {},
     "output_type": "execute_result"
    }
   ],
   "source": [
    "y_pred = model.predict(X_test) #predicting model output\n",
    "y_pred"
   ]
  },
  {
   "cell_type": "code",
   "execution_count": 16,
   "id": "b57646ca",
   "metadata": {},
   "outputs": [],
   "source": [
    "predicted_price = sc.inverse_transform(y_pred)"
   ]
  },
  {
   "cell_type": "code",
   "execution_count": 17,
   "id": "4a39db98",
   "metadata": {
    "scrolled": true
   },
   "outputs": [
    {
     "data": {
      "image/png": "[encoded data removed]",
      "text/plain": [
       "<Figure size 640x480 with 1 Axes>"
      ]
     },
     "metadata": {},
     "output_type": "display_data"
    }
   ],
   "source": [
    "plt.plot(y_test, color= 'red', label= 'Actual Stock Price')\n",
    "plt.plot(predicted_price, color= 'green', label= 'Predicted Stock Price')\n",
    "plt.title('Stock Price Prediction')\n",
    "plt.xlabel('Time')\n",
    "plt.ylabel('Stock Price')\n",
    "plt.legend()\n",
    "plt.show()"
   ]
  },
  {
   "cell_type": "code",
   "execution_count": null,
   "id": "3aac0e49",
   "metadata": {},
   "outputs": [],
   "source": []
  },
  {
   "cell_type": "code",
   "execution_count": null,
   "id": "58c1a774",
   "metadata": {},
   "outputs": [],
   "source": []
  }
 ],
 "metadata": {
  "kernelspec": {
   "display_name": "Python 3 (ipykernel)",
   "language": "python",
   "name": "python3"
  },
  "language_info": {
   "codemirror_mode": {
    "name": "ipython",
    "version": 3
   },
   "file_extension": ".py",
   "mimetype": "text/x-python",
   "name": "python",
   "nbconvert_exporter": "python",
   "pygments_lexer": "ipython3",
   "version": "3.11.3"
  }
 },
 "nbformat": 4,
 "nbformat_minor": 5
}
